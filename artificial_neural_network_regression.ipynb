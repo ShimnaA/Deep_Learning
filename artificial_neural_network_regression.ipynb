{
 "cells": [
  {
   "cell_type": "markdown",
   "metadata": {
    "colab_type": "text",
    "id": "3cbb7fRy-eyr"
   },
   "source": [
    "# Artificial Neural Network"
   ]
  },
  {
   "cell_type": "markdown",
   "metadata": {
    "colab_type": "text",
    "id": "8sNDnxE2-pwE"
   },
   "source": [
    "### Importing the libraries"
   ]
  },
  {
   "cell_type": "code",
   "execution_count": 1,
   "metadata": {},
   "outputs": [],
   "source": [
    "import pandas as pd\n",
    "import numpy as np\n",
    "import tensorflow as tf"
   ]
  },
  {
   "cell_type": "markdown",
   "metadata": {
    "colab_type": "text",
    "id": "AG3FQEch-yuA"
   },
   "source": [
    "## Part 1 - Data Preprocessing"
   ]
  },
  {
   "cell_type": "markdown",
   "metadata": {
    "colab_type": "text",
    "id": "-4zq8Mza_D9O"
   },
   "source": [
    "### Importing the dataset"
   ]
  },
  {
   "cell_type": "code",
   "execution_count": 2,
   "metadata": {},
   "outputs": [],
   "source": [
    "dataset = pd.read_excel(\"Folds5x2_pp.xlsx\")\n",
    "X = dataset.iloc[:, :-1]\n",
    "y = dataset.iloc[:, -1]"
   ]
  },
  {
   "cell_type": "code",
   "execution_count": 3,
   "metadata": {},
   "outputs": [
    {
     "data": {
      "text/html": [
       "<div>\n",
       "<style scoped>\n",
       "    .dataframe tbody tr th:only-of-type {\n",
       "        vertical-align: middle;\n",
       "    }\n",
       "\n",
       "    .dataframe tbody tr th {\n",
       "        vertical-align: top;\n",
       "    }\n",
       "\n",
       "    .dataframe thead th {\n",
       "        text-align: right;\n",
       "    }\n",
       "</style>\n",
       "<table border=\"1\" class=\"dataframe\">\n",
       "  <thead>\n",
       "    <tr style=\"text-align: right;\">\n",
       "      <th></th>\n",
       "      <th>AT</th>\n",
       "      <th>V</th>\n",
       "      <th>AP</th>\n",
       "      <th>RH</th>\n",
       "    </tr>\n",
       "  </thead>\n",
       "  <tbody>\n",
       "    <tr>\n",
       "      <th>0</th>\n",
       "      <td>14.96</td>\n",
       "      <td>41.76</td>\n",
       "      <td>1024.07</td>\n",
       "      <td>73.17</td>\n",
       "    </tr>\n",
       "    <tr>\n",
       "      <th>1</th>\n",
       "      <td>25.18</td>\n",
       "      <td>62.96</td>\n",
       "      <td>1020.04</td>\n",
       "      <td>59.08</td>\n",
       "    </tr>\n",
       "    <tr>\n",
       "      <th>2</th>\n",
       "      <td>5.11</td>\n",
       "      <td>39.40</td>\n",
       "      <td>1012.16</td>\n",
       "      <td>92.14</td>\n",
       "    </tr>\n",
       "    <tr>\n",
       "      <th>3</th>\n",
       "      <td>20.86</td>\n",
       "      <td>57.32</td>\n",
       "      <td>1010.24</td>\n",
       "      <td>76.64</td>\n",
       "    </tr>\n",
       "    <tr>\n",
       "      <th>4</th>\n",
       "      <td>10.82</td>\n",
       "      <td>37.50</td>\n",
       "      <td>1009.23</td>\n",
       "      <td>96.62</td>\n",
       "    </tr>\n",
       "    <tr>\n",
       "      <th>...</th>\n",
       "      <td>...</td>\n",
       "      <td>...</td>\n",
       "      <td>...</td>\n",
       "      <td>...</td>\n",
       "    </tr>\n",
       "    <tr>\n",
       "      <th>9563</th>\n",
       "      <td>16.65</td>\n",
       "      <td>49.69</td>\n",
       "      <td>1014.01</td>\n",
       "      <td>91.00</td>\n",
       "    </tr>\n",
       "    <tr>\n",
       "      <th>9564</th>\n",
       "      <td>13.19</td>\n",
       "      <td>39.18</td>\n",
       "      <td>1023.67</td>\n",
       "      <td>66.78</td>\n",
       "    </tr>\n",
       "    <tr>\n",
       "      <th>9565</th>\n",
       "      <td>31.32</td>\n",
       "      <td>74.33</td>\n",
       "      <td>1012.92</td>\n",
       "      <td>36.48</td>\n",
       "    </tr>\n",
       "    <tr>\n",
       "      <th>9566</th>\n",
       "      <td>24.48</td>\n",
       "      <td>69.45</td>\n",
       "      <td>1013.86</td>\n",
       "      <td>62.39</td>\n",
       "    </tr>\n",
       "    <tr>\n",
       "      <th>9567</th>\n",
       "      <td>21.60</td>\n",
       "      <td>62.52</td>\n",
       "      <td>1017.23</td>\n",
       "      <td>67.87</td>\n",
       "    </tr>\n",
       "  </tbody>\n",
       "</table>\n",
       "<p>9568 rows × 4 columns</p>\n",
       "</div>"
      ],
      "text/plain": [
       "         AT      V       AP     RH\n",
       "0     14.96  41.76  1024.07  73.17\n",
       "1     25.18  62.96  1020.04  59.08\n",
       "2      5.11  39.40  1012.16  92.14\n",
       "3     20.86  57.32  1010.24  76.64\n",
       "4     10.82  37.50  1009.23  96.62\n",
       "...     ...    ...      ...    ...\n",
       "9563  16.65  49.69  1014.01  91.00\n",
       "9564  13.19  39.18  1023.67  66.78\n",
       "9565  31.32  74.33  1012.92  36.48\n",
       "9566  24.48  69.45  1013.86  62.39\n",
       "9567  21.60  62.52  1017.23  67.87\n",
       "\n",
       "[9568 rows x 4 columns]"
      ]
     },
     "execution_count": 3,
     "metadata": {},
     "output_type": "execute_result"
    }
   ],
   "source": [
    "X"
   ]
  },
  {
   "cell_type": "code",
   "execution_count": 4,
   "metadata": {},
   "outputs": [
    {
     "data": {
      "text/plain": [
       "0       463.26\n",
       "1       444.37\n",
       "2       488.56\n",
       "3       446.48\n",
       "4       473.90\n",
       "         ...  \n",
       "9563    460.03\n",
       "9564    469.62\n",
       "9565    429.57\n",
       "9566    435.74\n",
       "9567    453.28\n",
       "Name: PE, Length: 9568, dtype: float64"
      ]
     },
     "execution_count": 4,
     "metadata": {},
     "output_type": "execute_result"
    }
   ],
   "source": [
    "y"
   ]
  },
  {
   "cell_type": "code",
   "execution_count": 5,
   "metadata": {},
   "outputs": [
    {
     "name": "stdout",
     "output_type": "stream",
     "text": [
      "         AT      V       AP     RH\n",
      "0     14.96  41.76  1024.07  73.17\n",
      "1     25.18  62.96  1020.04  59.08\n",
      "2      5.11  39.40  1012.16  92.14\n",
      "3     20.86  57.32  1010.24  76.64\n",
      "4     10.82  37.50  1009.23  96.62\n",
      "...     ...    ...      ...    ...\n",
      "9563  16.65  49.69  1014.01  91.00\n",
      "9564  13.19  39.18  1023.67  66.78\n",
      "9565  31.32  74.33  1012.92  36.48\n",
      "9566  24.48  69.45  1013.86  62.39\n",
      "9567  21.60  62.52  1017.23  67.87\n",
      "\n",
      "[9568 rows x 4 columns]\n",
      "0       463.26\n",
      "1       444.37\n",
      "2       488.56\n",
      "3       446.48\n",
      "4       473.90\n",
      "         ...  \n",
      "9563    460.03\n",
      "9564    469.62\n",
      "9565    429.57\n",
      "9566    435.74\n",
      "9567    453.28\n",
      "Name: PE, Length: 9568, dtype: float64\n"
     ]
    }
   ],
   "source": [
    "print(X)\n",
    "print(y)"
   ]
  },
  {
   "cell_type": "markdown",
   "metadata": {
    "colab_type": "text",
    "id": "VC6omXel_Up0"
   },
   "source": [
    "### Splitting the dataset into the Training set and Test set"
   ]
  },
  {
   "cell_type": "code",
   "execution_count": 6,
   "metadata": {},
   "outputs": [],
   "source": [
    "from sklearn.model_selection import train_test_split\n",
    "X_train, X_test, y_train, y_test = train_test_split(X, y, test_size=0.2, random_state=0)"
   ]
  },
  {
   "cell_type": "code",
   "execution_count": 7,
   "metadata": {},
   "outputs": [],
   "source": [
    "from sklearn.preprocessing import StandardScaler\n",
    "sc = StandardScaler()\n",
    "X_train = sc.fit_transform(X_train)\n",
    "X_test = sc.transform(X_test)"
   ]
  },
  {
   "cell_type": "markdown",
   "metadata": {
    "colab_type": "text",
    "id": "_mSLlAT9_eyI"
   },
   "source": [
    "## Part 2 - Building the ANN"
   ]
  },
  {
   "cell_type": "markdown",
   "metadata": {
    "colab_type": "text",
    "id": "CsBULd_f_wLY"
   },
   "source": [
    "### Initializing the ANN"
   ]
  },
  {
   "cell_type": "code",
   "execution_count": 8,
   "metadata": {},
   "outputs": [],
   "source": [
    "ann =  tf.keras.models.Sequential()"
   ]
  },
  {
   "cell_type": "markdown",
   "metadata": {
    "colab_type": "text",
    "id": "iitAFJS_ABUn"
   },
   "source": [
    "### Adding the input layer and the first hidden layer"
   ]
  },
  {
   "cell_type": "code",
   "execution_count": 9,
   "metadata": {},
   "outputs": [],
   "source": [
    "ann.add(tf.keras.layers.Dense(units=6, activation = 'relu'))"
   ]
  },
  {
   "cell_type": "markdown",
   "metadata": {
    "colab_type": "text",
    "id": "-lb4kK_wAKbs"
   },
   "source": [
    "### Adding the second hidden layer"
   ]
  },
  {
   "cell_type": "code",
   "execution_count": 10,
   "metadata": {},
   "outputs": [],
   "source": [
    "ann.add(tf.keras.layers.Dense(units=6, activation = 'relu'))"
   ]
  },
  {
   "cell_type": "markdown",
   "metadata": {
    "colab_type": "text",
    "id": "jwMOmKb3AdBY"
   },
   "source": [
    "### Adding the output layer"
   ]
  },
  {
   "cell_type": "code",
   "execution_count": 11,
   "metadata": {},
   "outputs": [],
   "source": [
    "ann.add(tf.keras.layers.Dense(units=1))"
   ]
  },
  {
   "cell_type": "markdown",
   "metadata": {
    "colab_type": "text",
    "id": "fq7e4fF6A1yy"
   },
   "source": [
    "## Part 3 - Training the ANN"
   ]
  },
  {
   "cell_type": "markdown",
   "metadata": {
    "colab_type": "text",
    "id": "qDeylAs2An25"
   },
   "source": [
    "### Compiling the ANN"
   ]
  },
  {
   "cell_type": "code",
   "execution_count": 12,
   "metadata": {},
   "outputs": [],
   "source": [
    "ann.compile(optimizer='adam', loss='mean_squared_error')"
   ]
  },
  {
   "cell_type": "markdown",
   "metadata": {
    "colab_type": "text",
    "id": "YjVuiybYOo7r"
   },
   "source": [
    "### Training the ANN model on the Training set"
   ]
  },
  {
   "cell_type": "code",
   "execution_count": 13,
   "metadata": {},
   "outputs": [
    {
     "name": "stdout",
     "output_type": "stream",
     "text": [
      "Epoch 1/100\n",
      "240/240 [==============================] - 0s 1ms/step - loss: 205563.1719\n",
      "Epoch 2/100\n",
      "240/240 [==============================] - 0s 881us/step - loss: 195733.7969\n",
      "Epoch 3/100\n",
      "240/240 [==============================] - 0s 1ms/step - loss: 152907.3438\n",
      "Epoch 4/100\n",
      "240/240 [==============================] - 0s 895us/step - loss: 92352.6797\n",
      "Epoch 5/100\n",
      "240/240 [==============================] - 0s 938us/step - loss: 54817.3320\n",
      "Epoch 6/100\n",
      "240/240 [==============================] - 0s 920us/step - loss: 33449.9922\n",
      "Epoch 7/100\n",
      "240/240 [==============================] - 0s 904us/step - loss: 19997.7344\n",
      "Epoch 8/100\n",
      "240/240 [==============================] - 0s 905us/step - loss: 12903.1523\n",
      "Epoch 9/100\n",
      "240/240 [==============================] - 0s 860us/step - loss: 8956.6660\n",
      "Epoch 10/100\n",
      "240/240 [==============================] - 0s 847us/step - loss: 6257.5586\n",
      "Epoch 11/100\n",
      "240/240 [==============================] - 0s 896us/step - loss: 4324.1055\n",
      "Epoch 12/100\n",
      "240/240 [==============================] - 0s 909us/step - loss: 3022.2500\n",
      "Epoch 13/100\n",
      "240/240 [==============================] - 0s 886us/step - loss: 2189.5347\n",
      "Epoch 14/100\n",
      "240/240 [==============================] - 0s 876us/step - loss: 1653.8778\n",
      "Epoch 15/100\n",
      "240/240 [==============================] - 0s 873us/step - loss: 1302.9648\n",
      "Epoch 16/100\n",
      "240/240 [==============================] - 0s 911us/step - loss: 1054.4911\n",
      "Epoch 17/100\n",
      "240/240 [==============================] - 0s 881us/step - loss: 863.8751\n",
      "Epoch 18/100\n",
      "240/240 [==============================] - 0s 862us/step - loss: 711.6925\n",
      "Epoch 19/100\n",
      "240/240 [==============================] - 0s 869us/step - loss: 586.2482\n",
      "Epoch 20/100\n",
      "240/240 [==============================] - 0s 965us/step - loss: 482.2104\n",
      "Epoch 21/100\n",
      "240/240 [==============================] - 0s 965us/step - loss: 395.0844\n",
      "Epoch 22/100\n",
      "240/240 [==============================] - 0s 893us/step - loss: 322.6938 0s - loss: 360.\n",
      "Epoch 23/100\n",
      "240/240 [==============================] - 0s 881us/step - loss: 261.5790\n",
      "Epoch 24/100\n",
      "240/240 [==============================] - 0s 869us/step - loss: 210.5851\n",
      "Epoch 25/100\n",
      "240/240 [==============================] - 0s 883us/step - loss: 168.7254\n",
      "Epoch 26/100\n",
      "240/240 [==============================] - 0s 897us/step - loss: 134.7905\n",
      "Epoch 27/100\n",
      "240/240 [==============================] - 0s 999us/step - loss: 106.0217\n",
      "Epoch 28/100\n",
      "240/240 [==============================] - 0s 940us/step - loss: 82.7052\n",
      "Epoch 29/100\n",
      "240/240 [==============================] - 0s 873us/step - loss: 65.1917\n",
      "Epoch 30/100\n",
      "240/240 [==============================] - 0s 864us/step - loss: 52.1244\n",
      "Epoch 31/100\n",
      "240/240 [==============================] - 0s 871us/step - loss: 42.4732\n",
      "Epoch 32/100\n",
      "240/240 [==============================] - 0s 874us/step - loss: 35.6822\n",
      "Epoch 33/100\n",
      "240/240 [==============================] - 0s 882us/step - loss: 31.4678\n",
      "Epoch 34/100\n",
      "240/240 [==============================] - 0s 983us/step - loss: 28.4388\n",
      "Epoch 35/100\n",
      "240/240 [==============================] - 0s 910us/step - loss: 26.57970s - loss: 26.\n",
      "Epoch 36/100\n",
      "240/240 [==============================] - 0s 923us/step - loss: 25.3054\n",
      "Epoch 37/100\n",
      "240/240 [==============================] - 0s 1ms/step - loss: 24.3538\n",
      "Epoch 38/100\n",
      "240/240 [==============================] - 0s 875us/step - loss: 23.5990\n",
      "Epoch 39/100\n",
      "240/240 [==============================] - 0s 907us/step - loss: 23.1734\n",
      "Epoch 40/100\n",
      "240/240 [==============================] - 0s 889us/step - loss: 22.6246\n",
      "Epoch 41/100\n",
      "240/240 [==============================] - 0s 902us/step - loss: 22.4231\n",
      "Epoch 42/100\n",
      "240/240 [==============================] - 0s 884us/step - loss: 22.2652\n",
      "Epoch 43/100\n",
      "240/240 [==============================] - 0s 889us/step - loss: 22.0933\n",
      "Epoch 44/100\n",
      "240/240 [==============================] - 0s 907us/step - loss: 21.9494\n",
      "Epoch 45/100\n",
      "240/240 [==============================] - 0s 901us/step - loss: 21.8082\n",
      "Epoch 46/100\n",
      "240/240 [==============================] - 0s 981us/step - loss: 21.7399\n",
      "Epoch 47/100\n",
      "240/240 [==============================] - 0s 1ms/step - loss: 21.6555\n",
      "Epoch 48/100\n",
      "240/240 [==============================] - 0s 927us/step - loss: 21.6297\n",
      "Epoch 49/100\n",
      "240/240 [==============================] - 0s 901us/step - loss: 21.6075\n",
      "Epoch 50/100\n",
      "240/240 [==============================] - 0s 873us/step - loss: 21.6999\n",
      "Epoch 51/100\n",
      "240/240 [==============================] - 0s 878us/step - loss: 21.6631\n",
      "Epoch 52/100\n",
      "240/240 [==============================] - 0s 877us/step - loss: 21.5828\n",
      "Epoch 53/100\n",
      "240/240 [==============================] - 0s 890us/step - loss: 21.4942\n",
      "Epoch 54/100\n",
      "240/240 [==============================] - 0s 890us/step - loss: 21.4977\n",
      "Epoch 55/100\n",
      "240/240 [==============================] - 0s 865us/step - loss: 21.7051\n",
      "Epoch 56/100\n",
      "240/240 [==============================] - 0s 848us/step - loss: 21.6385\n",
      "Epoch 57/100\n",
      "240/240 [==============================] - 0s 840us/step - loss: 21.6411\n",
      "Epoch 58/100\n",
      "240/240 [==============================] - 0s 859us/step - loss: 21.4605\n",
      "Epoch 59/100\n",
      "240/240 [==============================] - 0s 852us/step - loss: 21.5570\n",
      "Epoch 60/100\n",
      "240/240 [==============================] - 0s 857us/step - loss: 21.5376\n",
      "Epoch 61/100\n",
      "240/240 [==============================] - 0s 1ms/step - loss: 21.5211\n",
      "Epoch 62/100\n",
      "240/240 [==============================] - 0s 889us/step - loss: 21.3342\n",
      "Epoch 63/100\n",
      "240/240 [==============================] - 0s 838us/step - loss: 21.5047\n",
      "Epoch 64/100\n",
      "240/240 [==============================] - 0s 857us/step - loss: 21.5514\n",
      "Epoch 65/100\n",
      "240/240 [==============================] - 0s 837us/step - loss: 21.5884\n",
      "Epoch 66/100\n",
      "240/240 [==============================] - 0s 833us/step - loss: 21.4224\n",
      "Epoch 67/100\n",
      "240/240 [==============================] - 0s 896us/step - loss: 21.5722\n",
      "Epoch 68/100\n",
      "240/240 [==============================] - 0s 894us/step - loss: 21.5279\n",
      "Epoch 69/100\n",
      "240/240 [==============================] - 0s 899us/step - loss: 21.3930\n",
      "Epoch 70/100\n",
      "240/240 [==============================] - 0s 872us/step - loss: 21.3696\n",
      "Epoch 71/100\n",
      "240/240 [==============================] - 0s 842us/step - loss: 21.5043\n",
      "Epoch 72/100\n",
      "240/240 [==============================] - 0s 865us/step - loss: 21.4677\n",
      "Epoch 73/100\n",
      "240/240 [==============================] - 0s 862us/step - loss: 21.3725\n",
      "Epoch 74/100\n",
      "240/240 [==============================] - 0s 865us/step - loss: 21.4068\n",
      "Epoch 75/100\n",
      "240/240 [==============================] - 0s 840us/step - loss: 21.5481\n",
      "Epoch 76/100\n",
      "240/240 [==============================] - 0s 846us/step - loss: 21.4101\n",
      "Epoch 77/100\n",
      "240/240 [==============================] - 0s 837us/step - loss: 21.3202\n",
      "Epoch 78/100\n",
      "240/240 [==============================] - 0s 866us/step - loss: 21.4522\n",
      "Epoch 79/100\n",
      "240/240 [==============================] - 0s 1ms/step - loss: 21.4136\n",
      "Epoch 80/100\n",
      "240/240 [==============================] - 0s 893us/step - loss: 21.3793\n",
      "Epoch 81/100\n",
      "240/240 [==============================] - 0s 1ms/step - loss: 21.5199\n",
      "Epoch 82/100\n",
      "240/240 [==============================] - 0s 951us/step - loss: 21.4573\n",
      "Epoch 83/100\n",
      "240/240 [==============================] - 0s 1ms/step - loss: 21.4634\n",
      "Epoch 84/100\n",
      "240/240 [==============================] - 0s 873us/step - loss: 21.4351\n",
      "Epoch 85/100\n",
      "240/240 [==============================] - 0s 874us/step - loss: 21.2667\n",
      "Epoch 86/100\n",
      "240/240 [==============================] - 0s 991us/step - loss: 21.4741\n",
      "Epoch 87/100\n",
      "240/240 [==============================] - 0s 960us/step - loss: 21.3910\n",
      "Epoch 88/100\n",
      "240/240 [==============================] - 0s 988us/step - loss: 21.2363\n",
      "Epoch 89/100\n",
      "240/240 [==============================] - 0s 955us/step - loss: 21.6059\n",
      "Epoch 90/100\n",
      "240/240 [==============================] - 0s 972us/step - loss: 21.4014\n",
      "Epoch 91/100\n",
      "240/240 [==============================] - 0s 1ms/step - loss: 21.4183\n",
      "Epoch 92/100\n",
      "240/240 [==============================] - 0s 914us/step - loss: 21.4225\n",
      "Epoch 93/100\n",
      "240/240 [==============================] - 0s 996us/step - loss: 21.4291\n",
      "Epoch 94/100\n",
      "240/240 [==============================] - 0s 1ms/step - loss: 21.3607\n",
      "Epoch 95/100\n"
     ]
    },
    {
     "name": "stdout",
     "output_type": "stream",
     "text": [
      "240/240 [==============================] - 0s 1ms/step - loss: 21.4695\n",
      "Epoch 96/100\n",
      "240/240 [==============================] - 0s 1ms/step - loss: 21.5729\n",
      "Epoch 97/100\n",
      "240/240 [==============================] - 0s 1ms/step - loss: 21.5867\n",
      "Epoch 98/100\n",
      "240/240 [==============================] - 0s 1ms/step - loss: 21.4198\n",
      "Epoch 99/100\n",
      "240/240 [==============================] - 0s 1ms/step - loss: 21.4501\n",
      "Epoch 100/100\n",
      "240/240 [==============================] - ETA: 0s - loss: 21.48 - 0s 971us/step - loss: 21.4090\n"
     ]
    },
    {
     "data": {
      "text/plain": [
       "<tensorflow.python.keras.callbacks.History at 0x1e14c8b6670>"
      ]
     },
     "execution_count": 13,
     "metadata": {},
     "output_type": "execute_result"
    }
   ],
   "source": [
    "ann.fit(X_train, y_train, batch_size=32, epochs=100)"
   ]
  },
  {
   "cell_type": "markdown",
   "metadata": {
    "colab_type": "text",
    "id": "0H0zKKNEBLD5"
   },
   "source": [
    "### Predicting the results of the Test set"
   ]
  },
  {
   "cell_type": "code",
   "execution_count": 14,
   "metadata": {},
   "outputs": [],
   "source": [
    "y_pred = ann.predict(X_test)"
   ]
  },
  {
   "cell_type": "code",
   "execution_count": 22,
   "metadata": {},
   "outputs": [
    {
     "data": {
      "text/plain": [
       "array([430.81, 458.31, 462.32, ..., 469.32, 441.95, 461.4 ], dtype=float32)"
      ]
     },
     "execution_count": 22,
     "metadata": {},
     "output_type": "execute_result"
    }
   ],
   "source": [
    "y_pred.reshape(-1)"
   ]
  },
  {
   "cell_type": "code",
   "execution_count": 16,
   "metadata": {},
   "outputs": [
    {
     "data": {
      "text/plain": [
       "4834    431.23\n",
       "1768    460.01\n",
       "2819    461.14\n",
       "7779    445.90\n",
       "7065    451.29\n",
       "         ...  \n",
       "6452    460.29\n",
       "794     452.42\n",
       "627     473.26\n",
       "3515    438.00\n",
       "7600    463.28\n",
       "Name: PE, Length: 1914, dtype: float64"
      ]
     },
     "execution_count": 16,
     "metadata": {},
     "output_type": "execute_result"
    }
   ],
   "source": [
    "y_test"
   ]
  },
  {
   "cell_type": "code",
   "execution_count": 23,
   "metadata": {},
   "outputs": [
    {
     "data": {
      "text/plain": [
       "array([431.23, 460.01, 461.14, ..., 473.26, 438.  , 463.28])"
      ]
     },
     "execution_count": 23,
     "metadata": {},
     "output_type": "execute_result"
    }
   ],
   "source": [
    "y_test.to_numpy()"
   ]
  },
  {
   "cell_type": "code",
   "execution_count": 18,
   "metadata": {},
   "outputs": [
    {
     "data": {
      "text/plain": [
       "pandas.core.series.Series"
      ]
     },
     "execution_count": 18,
     "metadata": {},
     "output_type": "execute_result"
    }
   ],
   "source": [
    "type(y_test)"
   ]
  },
  {
   "cell_type": "code",
   "execution_count": 26,
   "metadata": {},
   "outputs": [
    {
     "name": "stdout",
     "output_type": "stream",
     "text": [
      "[[430.81 431.23]\n",
      " [458.31 460.01]\n",
      " [462.32 461.14]\n",
      " ...\n",
      " [469.32 473.26]\n",
      " [441.95 438.  ]\n",
      " [461.4  463.28]]\n"
     ]
    }
   ],
   "source": [
    "np.set_printoptions(precision=2)\n",
    "print(np.concatenate((y_pred.reshape(-1).reshape(len(y_pred),1), y_test.to_numpy().reshape(len(y_test),1) ),1))"
   ]
  },
  {
   "cell_type": "code",
   "execution_count": 27,
   "metadata": {},
   "outputs": [
    {
     "data": {
      "text/plain": [
       "19.992314155007982"
      ]
     },
     "execution_count": 27,
     "metadata": {},
     "output_type": "execute_result"
    }
   ],
   "source": [
    "from sklearn.metrics import mean_squared_error\n",
    "mean_squared_error(y_test.to_numpy(), y_pred.reshape(-1))"
   ]
  },
  {
   "cell_type": "code",
   "execution_count": null,
   "metadata": {},
   "outputs": [],
   "source": []
  }
 ],
 "metadata": {
  "colab": {
   "collapsed_sections": [],
   "name": "Artificial Neural Network",
   "provenance": [],
   "toc_visible": true
  },
  "kernelspec": {
   "display_name": "Python 3",
   "language": "python",
   "name": "python3"
  },
  "language_info": {
   "codemirror_mode": {
    "name": "ipython",
    "version": 3
   },
   "file_extension": ".py",
   "mimetype": "text/x-python",
   "name": "python",
   "nbconvert_exporter": "python",
   "pygments_lexer": "ipython3",
   "version": "3.8.3"
  }
 },
 "nbformat": 4,
 "nbformat_minor": 1
}
